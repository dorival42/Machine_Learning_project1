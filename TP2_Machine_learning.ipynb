{
 "cells": [
  {
   "cell_type": "markdown",
   "id": "44a4f5d6-05f0-4ee4-b93e-ff63904ef00a",
   "metadata": {},
   "source": [
    "Dans cet atelier 2 pratique, vous allez expérimenter des algorithmes de traitement de données pour répondre à\n",
    "différents problèmes liés à l’apprentissage supervisé avec le langage Python"
   ]
  },
  {
   "cell_type": "code",
   "execution_count": 11,
   "id": "53b2c917-b8c9-4ab1-94f9-e0837729ef68",
   "metadata": {},
   "outputs": [],
   "source": [
    "import numpy as np\n",
    "np.set_printoptions(threshold=10000,suppress=True)\n",
    "import pandas as pd\n",
    "import warnings\n",
    "import matplotlib.pyplot as plt\n",
    "warnings.filterwarnings('ignore')\n",
    "from sklearn.model_selection import train_test_split"
   ]
  },
  {
   "cell_type": "code",
   "execution_count": 8,
   "id": "b1e0bbe3-3a34-4208-aeb8-bfe84da7ab6f",
   "metadata": {},
   "outputs": [
    {
     "name": "stdout",
     "output_type": "stream",
     "text": [
      "Index(['Seniority', 'Home', 'Time', 'Age', 'Marital', 'Records', 'Job',\n",
      "       'Expenses', 'Income', 'Assets', 'Debt', 'Amount', 'Price', 'Status'],\n",
      "      dtype='object')\n"
     ]
    }
   ],
   "source": [
    "\n",
    "# Étape 1 : Charger les données\n",
    "data = pd.read_csv(\"credit_scoring.csv\", sep=';')\n",
    "\n",
    "print(data.columns)\n",
    "\n"
   ]
  },
  {
   "cell_type": "code",
   "execution_count": 9,
   "id": "30517ada-37b2-4f6a-95d0-31ee005a7b7a",
   "metadata": {},
   "outputs": [],
   "source": [
    "# Étape 2 : Transformation en numpy array et séparation des variables\n",
    "X = data.drop(columns=['Status']).values  # Variables caractéristiques\n",
    "y = data['Status'].values  # Variable cible"
   ]
  },
  {
   "cell_type": "code",
   "execution_count": 12,
   "id": "9af3b560-93c2-4dc3-ab64-4420b7c4ab04",
   "metadata": {},
   "outputs": [
    {
     "name": "stdout",
     "output_type": "stream",
     "text": [
      "Taille de l'échantillon: 4375 exemples, 13 caractéristiques\n",
      "Pourcentage d'exemples positifs: 72.21%\n",
      "Pourcentage d'exemples négatifs: 27.79%\n",
      "Taille de l'échantillon d'apprentissage: 2187 exemples\n",
      "Taille de l'échantillon de test: 2188 exemples\n"
     ]
    }
   ],
   "source": [
    "\n",
    "\n",
    "# Étape 3 : Analyse des données\n",
    "n_samples, n_features = X.shape  # Taille des données\n",
    "positive_percentage = (y.sum() / len(y)) * 100  # Pourcentage positifs\n",
    "negative_percentage = 100 - positive_percentage  # Pourcentage négatifs\n",
    "\n",
    "print(f\"Taille de l'échantillon: {n_samples} exemples, {n_features} caractéristiques\")\n",
    "print(f\"Pourcentage d'exemples positifs: {positive_percentage:.2f}%\")\n",
    "print(f\"Pourcentage d'exemples négatifs: {negative_percentage:.2f}%\")\n",
    "\n",
    "# Étape 4 : Division des données en apprentissage et test\n",
    "X_train, X_test, y_train, y_test = train_test_split(X, y, test_size=0.5, random_state=1)\n",
    "\n",
    "print(f\"Taille de l'échantillon d'apprentissage: {X_train.shape[0]} exemples\")\n",
    "print(f\"Taille de l'échantillon de test: {X_test.shape[0]} exemples\")\n"
   ]
  },
  {
   "cell_type": "markdown",
   "id": "9d246364-4056-45bf-bf6e-7f45b74a2ac4",
   "metadata": {},
   "source": [
    "**Apprentissage et évaluation de modèles :** Utiliser ensuite sur le jeu de données les algorithmes\n",
    "d’apprentissage supervisé suivants :\n",
    "• Un arbre **CART** (`random_state=1`)\n",
    "• **k-plus-proches-voisins** avec `k=5`\n",
    "• **MultilayerPerceptron** à deux couches de tailles respectives 40 et 20 et `random_state=1`\n"
   ]
  },
  {
   "cell_type": "code",
   "execution_count": 13,
   "id": "e66315e8-fed5-40db-ac25-33136392323c",
   "metadata": {},
   "outputs": [],
   "source": [
    "from sklearn.tree import DecisionTreeClassifier\n",
    "from sklearn.neighbors import KNeighborsClassifier\n",
    "from sklearn.neural_network import MLPClassifier\n",
    "from sklearn.metrics import accuracy_score"
   ]
  },
  {
   "cell_type": "code",
   "execution_count": 14,
   "id": "4473b1d8-ee4a-48b5-8e17-991172ad3a78",
   "metadata": {},
   "outputs": [
    {
     "name": "stdout",
     "output_type": "stream",
     "text": [
      "Précision de l'arbre CART: 0.73\n"
     ]
    }
   ],
   "source": [
    "\n",
    "# Modèle 1 : Arbre CART\n",
    "cart_model = DecisionTreeClassifier(random_state=1)\n",
    "cart_model.fit(X_train, y_train)  # Entraînement\n",
    "cart_predictions = cart_model.predict(X_test)  # Prédiction\n",
    "cart_accuracy = accuracy_score(y_test, cart_predictions)  # Évaluation\n",
    "\n",
    "print(f\"Précision de l'arbre CART: {cart_accuracy:.2f}\")"
   ]
  },
  {
   "cell_type": "code",
   "execution_count": 15,
   "id": "c8707f56-0d2f-4f1e-8838-0a6bc328bd50",
   "metadata": {},
   "outputs": [
    {
     "name": "stdout",
     "output_type": "stream",
     "text": [
      "Précision du k-plus-proches-voisins: 0.72\n"
     ]
    }
   ],
   "source": [
    "# Modèle 2 : k-plus-proches-voisins (k=5)\n",
    "knn_model = KNeighborsClassifier(n_neighbors=5)\n",
    "knn_model.fit(X_train, y_train)  # Entraînement\n",
    "knn_predictions = knn_model.predict(X_test)  # Prédiction\n",
    "knn_accuracy = accuracy_score(y_test, knn_predictions)  # Évaluation\n",
    "\n",
    "print(f\"Précision du k-plus-proches-voisins: {knn_accuracy:.2f}\")\n"
   ]
  },
  {
   "cell_type": "code",
   "execution_count": 17,
   "id": "5b70bc13-fb36-4f1f-a5e9-d240eac3d94c",
   "metadata": {},
   "outputs": [
    {
     "name": "stdout",
     "output_type": "stream",
     "text": [
      "Précision du Multilayer Perceptron: 0.70\n"
     ]
    }
   ],
   "source": [
    "\n",
    "\n",
    "# Modèle 3 : Multilayer Perceptron\n",
    "mlp_model = MLPClassifier(hidden_layer_sizes=(40, 20), random_state=1, max_iter=1000)\n",
    "mlp_model.fit(X_train, y_train)  # Entraînement\n",
    "mlp_predictions = mlp_model.predict(X_test)  # Prédiction\n",
    "mlp_accuracy = accuracy_score(y_test, mlp_predictions)  # Évaluation\n",
    "\n",
    "print(f\"Précision du Multilayer Perceptron: {mlp_accuracy:.2f}\")\n"
   ]
  },
  {
   "cell_type": "code",
   "execution_count": 19,
   "id": "9f5b998f-e734-4c0c-92dd-60a5bcd9fa19",
   "metadata": {},
   "outputs": [
    {
     "name": "stdout",
     "output_type": "stream",
     "text": [
      "Modèle     Accuracy   Précision  Rappel    \n",
      "CART       0.73       0.82       0.80      \n",
      "KNN        0.72       0.77       0.88      \n",
      "MLP        0.70       0.80       0.78      \n"
     ]
    }
   ],
   "source": [
    "# Comparer les modèles\n",
    "\n",
    "from sklearn.metrics import precision_score, recall_score\n",
    "\n",
    "# Initialisation des listes pour stocker les résultats\n",
    "models = [\"CART\", \"KNN\", \"MLP\"]\n",
    "accuracies = []\n",
    "precisions = []\n",
    "recalls = []\n",
    "\n",
    "# Modèle 1 : Arbre CART\n",
    "cart_accuracy = accuracy_score(y_test, cart_predictions)\n",
    "cart_precision = precision_score(y_test, cart_predictions)\n",
    "cart_recall = recall_score(y_test, cart_predictions)\n",
    "\n",
    "accuracies.append(cart_accuracy)\n",
    "precisions.append(cart_precision)\n",
    "recalls.append(cart_recall)\n",
    "\n",
    "# Modèle 2 : k-plus-proches-voisins\n",
    "knn_accuracy = accuracy_score(y_test, knn_predictions)\n",
    "knn_precision = precision_score(y_test, knn_predictions)\n",
    "knn_recall = recall_score(y_test, knn_predictions)\n",
    "\n",
    "accuracies.append(knn_accuracy)\n",
    "precisions.append(knn_precision)\n",
    "recalls.append(knn_recall)\n",
    "\n",
    "# Modèle 3 : Multilayer Perceptron\n",
    "mlp_accuracy = accuracy_score(y_test, mlp_predictions)\n",
    "mlp_precision = precision_score(y_test, mlp_predictions)\n",
    "mlp_recall = recall_score(y_test, mlp_predictions)\n",
    "\n",
    "accuracies.append(mlp_accuracy)\n",
    "precisions.append(mlp_precision)\n",
    "recalls.append(mlp_recall)\n",
    "\n",
    "# Affichage des résultats\n",
    "print(f\"{'Modèle':<10} {'Accuracy':<10} {'Précision':<10} {'Rappel':<10}\")\n",
    "for model, acc, prec, rec in zip(models, accuracies, precisions, recalls):\n",
    "    print(f\"{model:<10} {acc:<10.2f} {prec:<10.2f} {rec:<10.2f}\")\n"
   ]
  },
  {
   "cell_type": "markdown",
   "id": "75158c58-4a53-404d-834b-3b88d2f9d242",
   "metadata": {},
   "source": [
    "Utilisation le module **StandardScaler** de `Scikit-learn` pour normaliser les données "
   ]
  },
  {
   "cell_type": "code",
   "execution_count": 20,
   "id": "0ec4a723-12b3-43cf-bc84-8506032f1782",
   "metadata": {},
   "outputs": [],
   "source": [
    "from sklearn.preprocessing import StandardScaler\n",
    "\n",
    "# Normalisation des données\n",
    "scaler = StandardScaler()\n",
    "X_train_scaled = scaler.fit_transform(X_train)  # Ajuste sur l'ensemble d'apprentissage et transforme\n",
    "X_test_scaled = scaler.transform(X_test)        # Transforme uniquement l'ensemble de test\n"
   ]
  },
  {
   "cell_type": "code",
   "execution_count": 21,
   "id": "9638a339-163c-429c-9e9c-bacc7d75b2f2",
   "metadata": {},
   "outputs": [],
   "source": [
    "# Modèle 1 : Arbre CART (pas affecté par la normalisation)\n",
    "cart_model.fit(X_train_scaled, y_train)\n",
    "cart_predictions_scaled = cart_model.predict(X_test_scaled)\n",
    "cart_accuracy_scaled = accuracy_score(y_test, cart_predictions_scaled)"
   ]
  },
  {
   "cell_type": "code",
   "execution_count": 22,
   "id": "d21f5c50-a7ec-4fbd-9944-114233749365",
   "metadata": {},
   "outputs": [],
   "source": [
    "\n",
    "# Modèle 2 : k-plus-proches-voisins (sensible à la normalisation)\n",
    "knn_model.fit(X_train_scaled, y_train)\n",
    "knn_predictions_scaled = knn_model.predict(X_test_scaled)\n",
    "knn_accuracy_scaled = accuracy_score(y_test, knn_predictions_scaled)"
   ]
  },
  {
   "cell_type": "code",
   "execution_count": 23,
   "id": "b27b7d29-9b16-4c22-a8a5-4b0774ee05cd",
   "metadata": {},
   "outputs": [],
   "source": [
    "\n",
    "# Modèle 3 : Multilayer Perceptron (sensible à la normalisation)\n",
    "mlp_model.fit(X_train_scaled, y_train)\n",
    "mlp_predictions_scaled = mlp_model.predict(X_test_scaled)\n",
    "mlp_accuracy_scaled = accuracy_score(y_test, mlp_predictions_scaled)\n"
   ]
  },
  {
   "cell_type": "code",
   "execution_count": 24,
   "id": "33498603-da97-465c-924b-424e5616da3d",
   "metadata": {},
   "outputs": [
    {
     "name": "stdout",
     "output_type": "stream",
     "text": [
      "Modèle     Accuracy   Précision  Rappel    \n",
      "CART      0.73      0.82      0.80\n",
      "KNN       0.75      0.81      0.86\n",
      "MLP       0.74      0.83      0.82\n"
     ]
    }
   ],
   "source": [
    "\n",
    "# Résultats des métriques\n",
    "cart_precision_scaled = precision_score(y_test, cart_predictions_scaled)\n",
    "cart_recall_scaled = recall_score(y_test, cart_predictions_scaled)\n",
    "\n",
    "knn_precision_scaled = precision_score(y_test, knn_predictions_scaled)\n",
    "knn_recall_scaled = recall_score(y_test, knn_predictions_scaled)\n",
    "\n",
    "mlp_precision_scaled = precision_score(y_test, mlp_predictions_scaled)\n",
    "mlp_recall_scaled = recall_score(y_test, mlp_predictions_scaled)\n",
    "\n",
    "print(f\"{'Modèle':<10} {'Accuracy':<10} {'Précision':<10} {'Rappel':<10}\")\n",
    "print(f\"CART      {cart_accuracy_scaled:.2f}      {cart_precision_scaled:.2f}      {cart_recall_scaled:.2f}\")\n",
    "print(f\"KNN       {knn_accuracy_scaled:.2f}      {knn_precision_scaled:.2f}      {knn_recall_scaled:.2f}\")\n",
    "print(f\"MLP       {mlp_accuracy_scaled:.2f}      {mlp_precision_scaled:.2f}      {mlp_recall_scaled:.2f}\")\n"
   ]
  },
  {
   "cell_type": "markdown",
   "id": "636c17a2-79b6-48ae-b36d-44ce3a86820c",
   "metadata": {},
   "source": [
    "\n",
    "# Interprétation des résultats\n",
    "\n",
    "**Arbre CART :**\n",
    "\n",
    "Peu affecté par la normalisation, car il ne dépend pas des distances entre les points mais des seuils des variables.\n",
    "\n",
    "**k-plus-proches-voisins (KNN) :**\n",
    "\n",
    "Amélioration significative attendue, car cet algorithme utilise une mesure de distance (souvent Euclidienne), qui est très sensible à l'échelle des variables. Les variables normalisées assurent un poids équitable à chaque caractéristique.\n",
    "\n",
    "**Multilayer Perceptron (MLP) :**\n",
    "\n",
    "Amélioration également probable, car les réseaux de neurones convergent plus rapidement et efficacement avec des données normalisées, réduisant les biais dus aux échelles."
   ]
  },
  {
   "cell_type": "markdown",
   "id": "49dd9c5d-2eac-4104-8569-3269f5a64432",
   "metadata": {},
   "source": [
    "## 4 Création de nouvelles variables caractéristiques par combinaisons linéaires des variables initiales"
   ]
  },
  {
   "cell_type": "code",
   "execution_count": 25,
   "id": "b8b269a1-ef94-4066-a902-00ea6f0285d8",
   "metadata": {},
   "outputs": [
    {
     "name": "stdout",
     "output_type": "stream",
     "text": [
      "Taille des données normalisées : (2187, 13)\n",
      "Taille des données augmentées : (2187, 16)\n"
     ]
    }
   ],
   "source": [
    "from sklearn.decomposition import PCA\n",
    "\n",
    "# Appliquer une ACP sur les données normalisées\n",
    "pca = PCA(n_components=3)\n",
    "X_train_pca = pca.fit_transform(X_train_scaled)  # Ajuste et transforme les données d'apprentissage\n",
    "X_test_pca = pca.transform(X_test_scaled)       # Transforme les données de test\n",
    "\n",
    "# Concaténation des composantes principales avec les données normalisées\n",
    "X_train_augmented = np.hstack((X_train_scaled, X_train_pca))\n",
    "X_test_augmented = np.hstack((X_test_scaled, X_test_pca))\n",
    "\n",
    "# Afficher les dimensions avant et après concaténation\n",
    "print(f\"Taille des données normalisées : {X_train_scaled.shape}\")\n",
    "print(f\"Taille des données augmentées : {X_train_augmented.shape}\")\n"
   ]
  },
  {
   "cell_type": "code",
   "execution_count": 26,
   "id": "eabfc344-a5fa-4f39-b93c-4a1f45b4f708",
   "metadata": {},
   "outputs": [
    {
     "name": "stdout",
     "output_type": "stream",
     "text": [
      "Modèle     Accuracy   Précision  Rappel    \n",
      "CART      0.73      0.82      0.79\n",
      "KNN       0.76      0.81      0.87\n",
      "MLP       0.75      0.82      0.84\n"
     ]
    }
   ],
   "source": [
    "# Modèle 1 : Arbre CART\n",
    "cart_model.fit(X_train_augmented, y_train)\n",
    "cart_predictions_augmented = cart_model.predict(X_test_augmented)\n",
    "cart_accuracy_augmented = accuracy_score(y_test, cart_predictions_augmented)\n",
    "\n",
    "# Modèle 2 : k-plus-proches-voisins\n",
    "knn_model.fit(X_train_augmented, y_train)\n",
    "knn_predictions_augmented = knn_model.predict(X_test_augmented)\n",
    "knn_accuracy_augmented = accuracy_score(y_test, knn_predictions_augmented)\n",
    "\n",
    "# Modèle 3 : Multilayer Perceptron\n",
    "mlp_model.fit(X_train_augmented, y_train)\n",
    "mlp_predictions_augmented = mlp_model.predict(X_test_augmented)\n",
    "mlp_accuracy_augmented = accuracy_score(y_test, mlp_predictions_augmented)\n",
    "\n",
    "# Calcul des métriques supplémentaires\n",
    "from sklearn.metrics import precision_score, recall_score\n",
    "\n",
    "cart_precision_augmented = precision_score(y_test, cart_predictions_augmented)\n",
    "cart_recall_augmented = recall_score(y_test, cart_predictions_augmented)\n",
    "\n",
    "knn_precision_augmented = precision_score(y_test, knn_predictions_augmented)\n",
    "knn_recall_augmented = recall_score(y_test, knn_predictions_augmented)\n",
    "\n",
    "mlp_precision_augmented = precision_score(y_test, mlp_predictions_augmented)\n",
    "mlp_recall_augmented = recall_score(y_test, mlp_predictions_augmented)\n",
    "\n",
    "# Affichage des résultats\n",
    "print(f\"{'Modèle':<10} {'Accuracy':<10} {'Précision':<10} {'Rappel':<10}\")\n",
    "print(f\"CART      {cart_accuracy_augmented:.2f}      {cart_precision_augmented:.2f}      {cart_recall_augmented:.2f}\")\n",
    "print(f\"KNN       {knn_accuracy_augmented:.2f}      {knn_precision_augmented:.2f}      {knn_recall_augmented:.2f}\")\n",
    "print(f\"MLP       {mlp_accuracy_augmented:.2f}      {mlp_precision_augmented:.2f}      {mlp_recall_augmented:.2f}\")\n"
   ]
  },
  {
   "cell_type": "code",
   "execution_count": null,
   "id": "393863fd-7018-4ed7-b6a4-2cb42d66f3e1",
   "metadata": {},
   "outputs": [],
   "source": []
  }
 ],
 "metadata": {
  "kernelspec": {
   "display_name": "Python 3 (ipykernel)",
   "language": "python",
   "name": "python3"
  },
  "language_info": {
   "codemirror_mode": {
    "name": "ipython",
    "version": 3
   },
   "file_extension": ".py",
   "mimetype": "text/x-python",
   "name": "python",
   "nbconvert_exporter": "python",
   "pygments_lexer": "ipython3",
   "version": "3.10.12"
  }
 },
 "nbformat": 4,
 "nbformat_minor": 5
}
